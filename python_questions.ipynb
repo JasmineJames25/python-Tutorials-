{
  "nbformat": 4,
  "nbformat_minor": 0,
  "metadata": {
    "colab": {
      "provenance": [],
      "include_colab_link": true
    },
    "kernelspec": {
      "name": "python3",
      "display_name": "Python 3"
    },
    "language_info": {
      "name": "python"
    }
  },
  "cells": [
    {
      "cell_type": "markdown",
      "metadata": {
        "id": "view-in-github",
        "colab_type": "text"
      },
      "source": [
        "<a href=\"https://colab.research.google.com/github/JasmineJames25/python-Tutorials-/blob/main/python_questions.ipynb\" target=\"_parent\"><img src=\"https://colab.research.google.com/assets/colab-badge.svg\" alt=\"Open In Colab\"/></a>"
      ]
    },
    {
      "cell_type": "code",
      "execution_count": null,
      "metadata": {
        "colab": {
          "base_uri": "https://localhost:8080/"
        },
        "id": "GSQfxApCkoZD",
        "outputId": "a98ebbbd-332b-4f3c-e8d0-9fda1e10a9aa"
      },
      "outputs": [
        {
          "output_type": "stream",
          "name": "stdout",
          "text": [
            "510\n"
          ]
        }
      ],
      "source": [
        "#find the max number from given set of numbers using function\n",
        "def find_max(number):\n",
        "  return max(number)\n",
        "number=[2,3,4,510,1]\n",
        "result=find_max(number)\n",
        "print(result)"
      ]
    },
    {
      "cell_type": "code",
      "source": [
        "#case conversion (converting the uppercase words to lower case)\n",
        "def case_con(in_str):\n",
        "  return in_str.lower()\n",
        "in_str='Hello World!'\n",
        "result=case_con(in_str)\n",
        "print(result)"
      ],
      "metadata": {
        "colab": {
          "base_uri": "https://localhost:8080/"
        },
        "id": "0Ngr1NYjobAp",
        "outputId": "2e91784c-f25b-4b30-936f-56f35370a46e"
      },
      "execution_count": null,
      "outputs": [
        {
          "output_type": "stream",
          "name": "stdout",
          "text": [
            "hello world!\n"
          ]
        }
      ]
    },
    {
      "cell_type": "code",
      "source": [
        "#find the count of words\n",
        "str='i am jasmine'\n",
        "result=len(str.split())\n",
        "print(result)"
      ],
      "metadata": {
        "colab": {
          "base_uri": "https://localhost:8080/"
        },
        "id": "m3aP9XlBk8vD",
        "outputId": "d09e292f-6aa1-441c-ce6e-90e7cd6b2a7c"
      },
      "execution_count": null,
      "outputs": [
        {
          "output_type": "stream",
          "name": "stdout",
          "text": [
            "3\n"
          ]
        }
      ]
    },
    {
      "cell_type": "code",
      "source": [
        "#to count the number of vowels ( if input the code is given)\n",
        "def vowel_cont(input):\n",
        "  count=0\n",
        "  vowels='aeiouAEIOU'\n",
        "  for i in input:\n",
        "    if i in vowels:\n",
        "      count+=1\n",
        "  return count"
      ],
      "metadata": {
        "id": "Kc8etkTXlgWr"
      },
      "execution_count": null,
      "outputs": []
    },
    {
      "cell_type": "code",
      "source": [
        "#python prgrm to count the vowels\n",
        "def count_v(input_str):\n",
        "  vowel='aeiouAEIOU'\n",
        "  return len([char for char in input_str if char in vowel])\n",
        "input_str='countvowel'\n",
        "result=count_v(input_str)\n",
        "print(result)"
      ],
      "metadata": {
        "colab": {
          "base_uri": "https://localhost:8080/"
        },
        "id": "OPpF8SnWmLXj",
        "outputId": "9319b47e-4c4f-4499-aa6b-4a980795f4c2"
      },
      "execution_count": null,
      "outputs": [
        {
          "output_type": "stream",
          "name": "stdout",
          "text": [
            "4\n"
          ]
        }
      ]
    },
    {
      "cell_type": "code",
      "source": [
        "#to remove duplicates\n",
        "s='jasmines'\n",
        "newlr=''\n",
        "for letter in s:\n",
        "  if letter not in newlr:\n",
        "    newlr+=letter\n",
        "print(newlr)"
      ],
      "metadata": {
        "colab": {
          "base_uri": "https://localhost:8080/"
        },
        "id": "bmCeq2CFnKjT",
        "outputId": "b09e23ba-8ba9-48ff-b702-c20390df1a9c"
      },
      "execution_count": null,
      "outputs": [
        {
          "output_type": "stream",
          "name": "stdout",
          "text": [
            "jasmine\n"
          ]
        }
      ]
    },
    {
      "cell_type": "code",
      "source": [
        "#duplicate removing using set function since set does not support the duplicate values\n",
        "s='samusa'\n",
        "newletter=''.join(set(s))\n",
        "print(newletter)"
      ],
      "metadata": {
        "colab": {
          "base_uri": "https://localhost:8080/"
        },
        "id": "1M_RilBGsRvp",
        "outputId": "fbaf021e-9efd-417e-e2b4-459109a85506"
      },
      "execution_count": null,
      "outputs": [
        {
          "output_type": "stream",
          "name": "stdout",
          "text": [
            "smua\n"
          ]
        }
      ]
    },
    {
      "cell_type": "code",
      "source": [
        "#reverse functions\n",
        "def reverse(word):\n",
        "  return word[::-1]\n",
        "word='jasmine'\n",
        "result=reverse(word)\n",
        "print(result)"
      ],
      "metadata": {
        "colab": {
          "base_uri": "https://localhost:8080/"
        },
        "id": "_5GnyQBTsjUq",
        "outputId": "ad936b33-c41a-4b43-a87b-c08529bbb66b"
      },
      "execution_count": null,
      "outputs": [
        {
          "output_type": "stream",
          "name": "stdout",
          "text": [
            "enimsaj\n"
          ]
        }
      ]
    },
    {
      "cell_type": "code",
      "source": [
        "#checking the factorial of number\n",
        "num=3\n",
        "fact=1\n",
        "for i in range(1,num+1):\n",
        "  fact*=i\n",
        "print(fact)"
      ],
      "metadata": {
        "colab": {
          "base_uri": "https://localhost:8080/"
        },
        "id": "ifnNY_gVwEOs",
        "outputId": "1acec92e-a00d-4fb5-b2ed-a5dec821bf7b"
      },
      "execution_count": null,
      "outputs": [
        {
          "output_type": "stream",
          "name": "stdout",
          "text": [
            "6\n"
          ]
        }
      ]
    },
    {
      "cell_type": "code",
      "source": [
        "#checking the factorial of number using function\n",
        "def factorial(n):\n",
        "  facto=1\n",
        "  for i in range(1,n+1):\n",
        "    facto*=i\n",
        "  return facto\n",
        "n=5\n",
        "print(factorial(n))"
      ],
      "metadata": {
        "colab": {
          "base_uri": "https://localhost:8080/"
        },
        "id": "fKUjUb23x3V5",
        "outputId": "ac437299-8569-4a9a-904b-1db660cda931"
      },
      "execution_count": null,
      "outputs": [
        {
          "output_type": "stream",
          "name": "stdout",
          "text": [
            "120\n"
          ]
        }
      ]
    },
    {
      "cell_type": "code",
      "source": [
        "#word count problem\n",
        "f='there is always a a a a postive strength in everything that we see see see'\n",
        "lst=f.split()\n",
        "dic={}\n",
        "for i in lst:\n",
        "  if i not in dic:\n",
        "    dic[i]=1\n",
        "  else:\n",
        "    dic[i]=dic[i]+1\n",
        "print(dic)"
      ],
      "metadata": {
        "colab": {
          "base_uri": "https://localhost:8080/"
        },
        "id": "gob4Diaozqjw",
        "outputId": "7ec12675-b2af-4d23-c51e-588820e49ebb"
      },
      "execution_count": null,
      "outputs": [
        {
          "output_type": "stream",
          "name": "stdout",
          "text": [
            "{'there': 1, 'is': 1, 'always': 1, 'a': 4, 'postive': 1, 'strength': 1, 'in': 1, 'everything': 1, 'that': 1, 'we': 1, 'see': 3}\n"
          ]
        }
      ]
    },
    {
      "cell_type": "markdown",
      "source": [
        "# **PATTERN PROBLEMS**"
      ],
      "metadata": {
        "id": "I3YJljHJ6bF5"
      }
    },
    {
      "cell_type": "code",
      "source": [
        "n = 5  # Number of rows\n",
        "\n",
        "for i in range(1, n + 1):\n",
        "    for j in range(1, n + 1):\n",
        "        if i == 1 or i == n or j == 1 or j == n:\n",
        "            print(\"5\", end=\" \")\n",
        "        else:\n",
        "            print(\" \", end=\" \")\n",
        "    print()"
      ],
      "metadata": {
        "colab": {
          "base_uri": "https://localhost:8080/"
        },
        "id": "LJnor0-S1x7z",
        "outputId": "4a39042e-73f5-401d-ff15-0353814381ce"
      },
      "execution_count": null,
      "outputs": [
        {
          "output_type": "stream",
          "name": "stdout",
          "text": [
            "5 5 5 5 5 \n",
            "5       5 \n",
            "5       5 \n",
            "5       5 \n",
            "5 5 5 5 5 \n"
          ]
        }
      ]
    },
    {
      "cell_type": "code",
      "source": [
        "n=3\n",
        "for i in range(1,n+1):\n",
        "  for j in range(1,n+1):\n",
        "    print(i,end=\" \")\n",
        "  print()"
      ],
      "metadata": {
        "colab": {
          "base_uri": "https://localhost:8080/"
        },
        "id": "VWmuNmQB5T-d",
        "outputId": "a5c8be63-f45e-4147-cf87-835a10c9e324"
      },
      "execution_count": null,
      "outputs": [
        {
          "output_type": "stream",
          "name": "stdout",
          "text": [
            "1 1 1 \n",
            "2 2 2 \n",
            "3 3 3 \n"
          ]
        }
      ]
    },
    {
      "cell_type": "code",
      "source": [
        "for i in range(1,4):\n",
        "  for j in range(1,4):\n",
        "    print(j,end=\"\")\n",
        "  print()"
      ],
      "metadata": {
        "colab": {
          "base_uri": "https://localhost:8080/"
        },
        "id": "JvAmXpeg6XTt",
        "outputId": "3b125381-8ef1-4bb9-8ab2-4b9576f05915"
      },
      "execution_count": null,
      "outputs": [
        {
          "output_type": "stream",
          "name": "stdout",
          "text": [
            "123\n",
            "123\n",
            "123\n"
          ]
        }
      ]
    },
    {
      "cell_type": "code",
      "source": [
        "for i in range(5,0,-1):\n",
        "  print(i,end=\"\")"
      ],
      "metadata": {
        "colab": {
          "base_uri": "https://localhost:8080/"
        },
        "id": "fvtjuiDP6rNt",
        "outputId": "5715ee53-ee21-4f51-ffcc-3cead7dfe21e"
      },
      "execution_count": null,
      "outputs": [
        {
          "output_type": "stream",
          "name": "stdout",
          "text": [
            "54321"
          ]
        }
      ]
    },
    {
      "cell_type": "code",
      "source": [
        "for i in range(5,0,-1):  #5,4,3,2,1\n",
        "  for j in range(1,i+1):   #i=5 ==> (1,6)=1,2,3,4,5\n",
        "    print(j,end='')\n",
        "  print()"
      ],
      "metadata": {
        "colab": {
          "base_uri": "https://localhost:8080/"
        },
        "id": "1bF4VAeH7mHX",
        "outputId": "91ce2ac3-2b5d-48f1-a8d3-01bb89cacb18"
      },
      "execution_count": null,
      "outputs": [
        {
          "output_type": "stream",
          "name": "stdout",
          "text": [
            "12345\n",
            "1234\n",
            "123\n",
            "12\n",
            "1\n"
          ]
        }
      ]
    },
    {
      "cell_type": "code",
      "source": [
        "for i in range(5,0,-1):  #5,4,3,2,1\n",
        "  for j in range(1,i+1):   #i=5 ==> (1,6)=1,2,3,4,5\n",
        "    print(i,end='')\n",
        "  print()"
      ],
      "metadata": {
        "colab": {
          "base_uri": "https://localhost:8080/"
        },
        "id": "AVqjLaWv80oR",
        "outputId": "b4541baa-17de-4af0-f5a5-14d34585afd6"
      },
      "execution_count": null,
      "outputs": [
        {
          "output_type": "stream",
          "name": "stdout",
          "text": [
            "55555\n",
            "4444\n",
            "333\n",
            "22\n",
            "1\n"
          ]
        }
      ]
    },
    {
      "cell_type": "code",
      "source": [
        "for i in range(1,6):\n",
        "  for j in range(i-1,6):\n",
        "    print(i,end='')\n",
        "  print()"
      ],
      "metadata": {
        "colab": {
          "base_uri": "https://localhost:8080/"
        },
        "id": "6KTwkMTg_aYo",
        "outputId": "9e67ba84-9334-4dc5-eca2-470e888fc4d2"
      },
      "execution_count": null,
      "outputs": [
        {
          "output_type": "stream",
          "name": "stdout",
          "text": [
            "111111\n",
            "22222\n",
            "3333\n",
            "444\n",
            "55\n"
          ]
        }
      ]
    },
    {
      "cell_type": "code",
      "source": [
        "for i in range(1,4):\n",
        "  for j in range(1,i+1):\n",
        "    print(j,end='')\n",
        "  print()"
      ],
      "metadata": {
        "colab": {
          "base_uri": "https://localhost:8080/"
        },
        "id": "bixKiYxC9HRz",
        "outputId": "d5a71757-6d00-4e25-feb1-472c69bae044"
      },
      "execution_count": null,
      "outputs": [
        {
          "output_type": "stream",
          "name": "stdout",
          "text": [
            "1\n",
            "12\n",
            "123\n"
          ]
        }
      ]
    },
    {
      "cell_type": "code",
      "source": [],
      "metadata": {
        "id": "jpk8eCo1-_-X"
      },
      "execution_count": null,
      "outputs": []
    }
  ]
}